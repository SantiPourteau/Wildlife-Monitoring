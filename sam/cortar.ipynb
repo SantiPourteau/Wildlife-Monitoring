{
 "cells": [
  {
   "cell_type": "code",
   "execution_count": 4,
   "metadata": {},
   "outputs": [
    {
     "name": "stdout",
     "output_type": "stream",
     "text": [
      "¡Primer frame guardado como 'primer_frame.jpg'!\n"
     ]
    }
   ],
   "source": [
    "\n",
    "import cv2\n",
    "from moviepy.video.io.VideoFileClip import VideoFileClip\n",
    "\n",
    "# Cargar el video\n",
    "video = VideoFileClip(\"golmessi_cortado.mp4\")\n",
    "\n",
    "# Extraer el primer frame como imagen\n",
    "frame = video.get_frame(0)  # Frame en t=0 segundos\n",
    "\n",
    "# Convertir el frame de RGB a BGR (para compatibilidad con OpenCV)\n",
    "frame_bgr = cv2.cvtColor(frame, cv2.COLOR_RGB2BGR)\n",
    "\n",
    "# Guardar el frame como imagen\n",
    "cv2.imwrite(\"primer_frame.jpg\", frame_bgr)\n",
    "\n",
    "print(\"¡Primer frame guardado como 'primer_frame.jpg'!\")\n",
    "\n",
    "\n",
    "\n",
    "\n",
    "\n",
    "\n",
    "\n"
   ]
  },
  {
   "cell_type": "code",
   "execution_count": 5,
   "metadata": {},
   "outputs": [
    {
     "name": "stdout",
     "output_type": "stream",
     "text": [
      "Dibuja la bounding box sobre Messi y presiona 'q' para salir.\n"
     ]
    },
    {
     "name": "stderr",
     "output_type": "stream",
     "text": [
      "2024-11-25 14:40:38.653 python[12965:506225] +[IMKClient subclass]: chose IMKClient_Modern\n",
      "2024-11-25 14:40:38.653 python[12965:506225] +[IMKInputSession subclass]: chose IMKInputSession_Modern\n"
     ]
    },
    {
     "ename": "KeyboardInterrupt",
     "evalue": "",
     "output_type": "error",
     "traceback": [
      "\u001b[0;31m---------------------------------------------------------------------------\u001b[0m",
      "\u001b[0;31mKeyboardInterrupt\u001b[0m                         Traceback (most recent call last)",
      "Cell \u001b[0;32mIn[5], line 29\u001b[0m\n\u001b[1;32m     27\u001b[0m \u001b[38;5;28mprint\u001b[39m(\u001b[38;5;124m\"\u001b[39m\u001b[38;5;124mDibuja la bounding box sobre Messi y presiona \u001b[39m\u001b[38;5;124m'\u001b[39m\u001b[38;5;124mq\u001b[39m\u001b[38;5;124m'\u001b[39m\u001b[38;5;124m para salir.\u001b[39m\u001b[38;5;124m\"\u001b[39m)\n\u001b[1;32m     28\u001b[0m \u001b[38;5;28;01mwhile\u001b[39;00m \u001b[38;5;28;01mTrue\u001b[39;00m:\n\u001b[0;32m---> 29\u001b[0m     \u001b[38;5;28;01mif\u001b[39;00m \u001b[43mcv2\u001b[49m\u001b[38;5;241;43m.\u001b[39;49m\u001b[43mwaitKey\u001b[49m\u001b[43m(\u001b[49m\u001b[38;5;241;43m1\u001b[39;49m\u001b[43m)\u001b[49m \u001b[38;5;241m&\u001b[39m \u001b[38;5;241m0xFF\u001b[39m \u001b[38;5;241m==\u001b[39m \u001b[38;5;28mord\u001b[39m(\u001b[38;5;124m\"\u001b[39m\u001b[38;5;124mq\u001b[39m\u001b[38;5;124m\"\u001b[39m):\n\u001b[1;32m     30\u001b[0m         \u001b[38;5;28;01mbreak\u001b[39;00m\n\u001b[1;32m     32\u001b[0m cv2\u001b[38;5;241m.\u001b[39mdestroyAllWindows()\n",
      "\u001b[0;31mKeyboardInterrupt\u001b[0m: "
     ]
    },
    {
     "ename": "",
     "evalue": "",
     "output_type": "error",
     "traceback": [
      "\u001b[1;31mThe Kernel crashed while executing code in the current cell or a previous cell. \n",
      "\u001b[1;31mPlease review the code in the cell(s) to identify a possible cause of the failure. \n",
      "\u001b[1;31mClick <a href='https://aka.ms/vscodeJupyterKernelCrash'>here</a> for more info. \n",
      "\u001b[1;31mView Jupyter <a href='command:jupyter.viewOutput'>log</a> for further details."
     ]
    }
   ],
   "source": [
    "import cv2\n",
    "\n",
    "\n",
    "# Guardar el frame como una imagen para referencia\n",
    "cv2.imwrite(\"primer_frame.jpg\", cv2.cvtColor(frame, cv2.COLOR_RGB2BGR))\n",
    "\n",
    "# Cargar el frame con OpenCV\n",
    "imagen = cv2.imread(\"primer_frame.jpg\")\n",
    "\n",
    "# Crear una ventana para dibujar la bounding box manualmente\n",
    "bounding_box = []\n",
    "\n",
    "def dibujar_rectangulo(event, x, y, flags, param):\n",
    "    global bounding_box, imagen\n",
    "    if event == cv2.EVENT_LBUTTONDOWN:\n",
    "        bounding_box = [(x, y)]  # Punto inicial\n",
    "    elif event == cv2.EVENT_LBUTTONUP:\n",
    "        bounding_box.append((x, y))  # Punto final\n",
    "        # Dibujar el rectángulo en la imagen\n",
    "        cv2.rectangle(imagen, bounding_box[0], bounding_box[1], (0, 255, 0), 2)\n",
    "        cv2.imshow(\"Frame con Bounding Box\", imagen)\n",
    "\n",
    "# Mostrar el frame y permitir al usuario dibujar la bounding box\n",
    "cv2.imshow(\"Frame con Bounding Box\", imagen)\n",
    "cv2.setMouseCallback(\"Frame con Bounding Box\", dibujar_rectangulo)\n",
    "\n",
    "print(\"Dibuja la bounding box sobre Messi y presiona 'q' para salir.\")\n",
    "while True:\n",
    "    if cv2.waitKey(1) & 0xFF == ord(\"q\"):\n",
    "        break\n",
    "\n",
    "cv2.destroyAllWindows()\n",
    "\n",
    "# Guardar las coordenadas de la bounding box\n",
    "if bounding_box:\n",
    "    print(f\"Bounding Box: {bounding_box}\")\n",
    "    with open(\"bounding_box.txt\", \"w\") as f:\n",
    "        f.write(f\"Bounding Box: {bounding_box}\")\n",
    "else:\n",
    "    print(\"No se generó una bounding box.\")"
   ]
  }
 ],
 "metadata": {
  "kernelspec": {
   "display_name": "vision",
   "language": "python",
   "name": "python3"
  },
  "language_info": {
   "codemirror_mode": {
    "name": "ipython",
    "version": 3
   },
   "file_extension": ".py",
   "mimetype": "text/x-python",
   "name": "python",
   "nbconvert_exporter": "python",
   "pygments_lexer": "ipython3",
   "version": "3.10.15"
  }
 },
 "nbformat": 4,
 "nbformat_minor": 2
}
